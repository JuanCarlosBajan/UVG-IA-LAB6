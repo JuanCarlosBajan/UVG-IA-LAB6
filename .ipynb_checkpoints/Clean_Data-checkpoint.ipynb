{
 "cells": [
  {
   "cell_type": "code",
   "execution_count": 1,
   "id": "f99db974",
   "metadata": {},
   "outputs": [],
   "source": [
    "import pandas as pd\n",
    "import numpy as np\n",
    "from sklearn import preprocessing\n",
    "from ydata_profiling import ProfileReport"
   ]
  },
  {
   "cell_type": "code",
   "execution_count": 2,
   "id": "ade7e5df",
   "metadata": {},
   "outputs": [],
   "source": [
    "data = pd.read_csv(\"bank_transactions.csv\", low_memory=False)"
   ]
  },
  {
   "cell_type": "code",
   "execution_count": 3,
   "id": "9926a0a2",
   "metadata": {},
   "outputs": [],
   "source": [
    "data['TransactionTime'] = data['TransactionTime'].apply(lambda x: x / 10000)\n",
    "data['TransactionTime'] = np.floor(data['TransactionTime'])\n",
    "data['CustAccountBalance'] = np.floor(data['CustAccountBalance'])"
   ]
  },
  {
   "cell_type": "code",
   "execution_count": 4,
   "id": "1f38e40b",
   "metadata": {},
   "outputs": [
    {
     "name": "stderr",
     "output_type": "stream",
     "text": [
      "C:\\Users\\juanc\\AppData\\Local\\Temp\\ipykernel_21044\\2426850851.py:12: FutureWarning: Series.dt.weekofyear and Series.dt.week have been deprecated. Please use Series.dt.isocalendar().week instead.\n",
      "  data['TransactionDate'] = data['TransactionDate'].dt.week\n"
     ]
    }
   ],
   "source": [
    "data['CustomerDOB'] = pd.to_datetime(data['CustomerDOB'])\n",
    "data['TransactionDate'] = pd.to_datetime(data['TransactionDate'])\n",
    "indices = data.loc[data['CustomerDOB'].dt.year < 1900].index\n",
    "# Eliminar las filas seleccionadas del DataFrame\n",
    "data.drop(indices, inplace=True)\n",
    "indices = data.loc[data['CustomerDOB'].dt.year > 2020].index\n",
    "# Eliminar las filas seleccionadas del DataFrame\n",
    "data.drop(indices, inplace=True)\n",
    "\n",
    "\n",
    "data['CustomerDOB'] = data['CustomerDOB'].dt.year\n",
    "data['TransactionDate'] = data['TransactionDate'].dt.week\n"
   ]
  },
  {
   "cell_type": "code",
   "execution_count": 5,
   "id": "bf08e33c",
   "metadata": {},
   "outputs": [],
   "source": [
    "indices = data.loc[data['CustGender'] == 'T'].index\n",
    "\n",
    "# Eliminar las filas seleccionadas del DataFrame\n",
    "data.drop(indices, inplace=True)\n",
    "mapeo = {'F': 0, 'M': 1,}\n",
    "\n",
    "# Aplicar la función map() a la columna 'género' para convertir los valores en valores numéricos\n",
    "data['CustGender'] = data['CustGender'].map(mapeo)"
   ]
  },
  {
   "cell_type": "code",
   "execution_count": 6,
   "id": "9e738bdf",
   "metadata": {},
   "outputs": [],
   "source": [
    "#ubicacion_dummy = pd.get_dummies(data['CustLocation'])\n",
    "\n",
    "# Concatenar el DataFrame original con el DataFrame de variables dummy\n",
    "#data = pd.concat([data, ubicacion_dummy], axis=1)"
   ]
  },
  {
   "cell_type": "code",
   "execution_count": 7,
   "id": "d42420f4",
   "metadata": {},
   "outputs": [],
   "source": [
    "data = data.loc[:, data.columns != 'CustLocation']\n",
    "data = data.loc[:, data.columns != 'TransactionID']\n",
    "data = data.loc[:, data.columns != 'CustomerID']\n",
    "data = data.loc[:, data.columns != 'CustLocation']"
   ]
  },
  {
   "cell_type": "code",
   "execution_count": 8,
   "id": "afef6e9e",
   "metadata": {},
   "outputs": [],
   "source": [
    "#x = data.values #returns a numpy array\n",
    "#min_max_scaler = preprocessing.MinMaxScaler()\n",
    "#x_scaled = min_max_scaler.fit_transform(x)\n",
    "#data = pd.DataFrame(x_scaled)"
   ]
  },
  {
   "cell_type": "code",
   "execution_count": 9,
   "id": "acd897af",
   "metadata": {
    "scrolled": true
   },
   "outputs": [
    {
     "data": {
      "text/html": [
       "<div>\n",
       "<style scoped>\n",
       "    .dataframe tbody tr th:only-of-type {\n",
       "        vertical-align: middle;\n",
       "    }\n",
       "\n",
       "    .dataframe tbody tr th {\n",
       "        vertical-align: top;\n",
       "    }\n",
       "\n",
       "    .dataframe thead th {\n",
       "        text-align: right;\n",
       "    }\n",
       "</style>\n",
       "<table border=\"1\" class=\"dataframe\">\n",
       "  <thead>\n",
       "    <tr style=\"text-align: right;\">\n",
       "      <th></th>\n",
       "      <th>0</th>\n",
       "      <th>1</th>\n",
       "      <th>2</th>\n",
       "      <th>3</th>\n",
       "      <th>4</th>\n",
       "      <th>5</th>\n",
       "    </tr>\n",
       "  </thead>\n",
       "  <tbody>\n",
       "    <tr>\n",
       "      <th>0</th>\n",
       "      <td>0.446809</td>\n",
       "      <td>0.0</td>\n",
       "      <td>0.000413</td>\n",
       "      <td>0.104167</td>\n",
       "      <td>0.608696</td>\n",
       "      <td>0.000016</td>\n",
       "    </tr>\n",
       "    <tr>\n",
       "      <th>1</th>\n",
       "      <td>0.489362</td>\n",
       "      <td>0.0</td>\n",
       "      <td>0.000414</td>\n",
       "      <td>0.104167</td>\n",
       "      <td>0.608696</td>\n",
       "      <td>0.000294</td>\n",
       "    </tr>\n",
       "    <tr>\n",
       "      <th>2</th>\n",
       "      <td>0.000000</td>\n",
       "      <td>0.0</td>\n",
       "      <td>0.020074</td>\n",
       "      <td>0.104167</td>\n",
       "      <td>0.608696</td>\n",
       "      <td>0.001320</td>\n",
       "    </tr>\n",
       "    <tr>\n",
       "      <th>3</th>\n",
       "      <td>0.319149</td>\n",
       "      <td>0.0</td>\n",
       "      <td>0.000156</td>\n",
       "      <td>0.104167</td>\n",
       "      <td>0.782609</td>\n",
       "      <td>0.001130</td>\n",
       "    </tr>\n",
       "    <tr>\n",
       "      <th>4</th>\n",
       "      <td>0.404255</td>\n",
       "      <td>0.0</td>\n",
       "      <td>0.000023</td>\n",
       "      <td>0.104167</td>\n",
       "      <td>0.739130</td>\n",
       "      <td>0.000363</td>\n",
       "    </tr>\n",
       "  </tbody>\n",
       "</table>\n",
       "</div>"
      ],
      "text/plain": [
       "          0    1         2         3         4         5\n",
       "0  0.446809  0.0  0.000413  0.104167  0.608696  0.000016\n",
       "1  0.489362  0.0  0.000414  0.104167  0.608696  0.000294\n",
       "2  0.000000  0.0  0.020074  0.104167  0.608696  0.001320\n",
       "3  0.319149  0.0  0.000156  0.104167  0.782609  0.001130\n",
       "4  0.404255  0.0  0.000023  0.104167  0.739130  0.000363"
      ]
     },
     "execution_count": 9,
     "metadata": {},
     "output_type": "execute_result"
    }
   ],
   "source": [
    "data.head()"
   ]
  },
  {
   "cell_type": "code",
   "execution_count": 10,
   "id": "ff99a183",
   "metadata": {},
   "outputs": [],
   "source": [
    "data.to_csv('clean.csv', index=False)"
   ]
  },
  {
   "cell_type": "code",
   "execution_count": 11,
   "id": "9d21de52",
   "metadata": {},
   "outputs": [
    {
     "data": {
      "application/vnd.jupyter.widget-view+json": {
       "model_id": "9436be1ad5504fa8b6b46604e3067d68",
       "version_major": 2,
       "version_minor": 0
      },
      "text/plain": [
       "Summarize dataset:   0%|          | 0/5 [00:00<?, ?it/s]"
      ]
     },
     "metadata": {},
     "output_type": "display_data"
    },
    {
     "data": {
      "application/vnd.jupyter.widget-view+json": {
       "model_id": "bb17443df6a6441cb5827c6113c45ca0",
       "version_major": 2,
       "version_minor": 0
      },
      "text/plain": [
       "Generate report structure:   0%|          | 0/1 [00:00<?, ?it/s]"
      ]
     },
     "metadata": {},
     "output_type": "display_data"
    },
    {
     "data": {
      "application/vnd.jupyter.widget-view+json": {
       "model_id": "c1054e04ddb44e578c57374bfa92bc53",
       "version_major": 2,
       "version_minor": 0
      },
      "text/plain": [
       "Render HTML:   0%|          | 0/1 [00:00<?, ?it/s]"
      ]
     },
     "metadata": {},
     "output_type": "display_data"
    },
    {
     "data": {
      "application/vnd.jupyter.widget-view+json": {
       "model_id": "c8fef12fb6d849c688a380bbc200be13",
       "version_major": 2,
       "version_minor": 0
      },
      "text/plain": [
       "Export report to file:   0%|          | 0/1 [00:00<?, ?it/s]"
      ]
     },
     "metadata": {},
     "output_type": "display_data"
    }
   ],
   "source": [
    "# Generar un informe detallado de los datos\n",
    "profile = ProfileReport(data, title=\"CompleteDataset\", explorative=True)\n",
    "\n",
    "# Guardar el informe en un archivo HTML\n",
    "profile.to_file(\"CompleteDataset.html\")"
   ]
  },
  {
   "cell_type": "code",
   "execution_count": null,
   "id": "eb7028d2",
   "metadata": {},
   "outputs": [],
   "source": []
  }
 ],
 "metadata": {
  "kernelspec": {
   "display_name": "Python 3 (ipykernel)",
   "language": "python",
   "name": "python3"
  },
  "language_info": {
   "codemirror_mode": {
    "name": "ipython",
    "version": 3
   },
   "file_extension": ".py",
   "mimetype": "text/x-python",
   "name": "python",
   "nbconvert_exporter": "python",
   "pygments_lexer": "ipython3",
   "version": "3.8.8"
  }
 },
 "nbformat": 4,
 "nbformat_minor": 5
}
